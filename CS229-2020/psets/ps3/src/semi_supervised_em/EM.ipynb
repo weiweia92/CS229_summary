{
 "cells": [
  {
   "cell_type": "markdown",
   "id": "575de763-1f97-4f27-b93c-f3de5f6a8927",
   "metadata": {},
   "source": [
    "**(a) Convergence**\n",
    "\n",
    "First we will show that this algorithm eventually converges. In order to prove this, it is sufficient to show that our semi-supervised objective $\\ell_{\\text{semi-sup}}(\\theta)$ monotonically increases with each iteration of E and M step. Specially, let $\\theta(t)$ be the parameters obtained at the end of $t$ EM-steps. Show that $\\ell_{\\text{semi-sup}}(\\theta^{t+1})\\geq \\ell_{\\text{semi-sup}}(\\theta^{(t)})$."
   ]
  },
  {
   "cell_type": "markdown",
   "id": "d20abb96-a9e8-4def-8537-59dd253ef42f",
   "metadata": {},
   "source": [
    "\\begin{align*}\n",
    "\\ell_{\\text{semi-sup}}(\\theta^{(t+1)})&= \\ell_{\\text{unsup}}(\\theta^{(t+1)})+\\alpha \\ell_{\\text{sup}}(\\theta^{(t+1)}) \\tag{1}\\\\\n",
    "            &= \\text{arg}\\underset{\\theta}{\\text{min}}- \\sum_x \\hat P(x) \\text{log} \\frac{P_{\\theta}(x)}{\\hat P(x)} \\tag{2}\\\\\n",
    "            &= \\text{arg}\\underset{\\theta}{\\text{min}}-\\sum_x\\frac{1}{m}\\sum_{i=1}^{m} 1\\{x^{(i)} = x\\} \\text{log}\\frac{P_{\\theta}(x)}{\\frac{1}{m} \\sum_{i=1}^{m} 1 \\{x^{(i)} = x\\}} \\tag{3}\\\\\n",
    "            &= \\text{arg}\\underset{\\theta}{\\text{max}}\\frac{1}{m}\\sum_{i=1}^{m}\\sum_x 1\\{x^{(i)} = x\\} \\text{log}\\frac{P_{\\theta}(x)}{\\frac{1}{m} \\sum_{i=1}^{m} 1 \\{x^{(i)} = x\\}}\\tag{4}\\\\\n",
    "&= \\text{arg}\\underset{\\theta}{\\text{max}}\\sum_{i=1}^{m}\\sum_x 1\\{x^{(i)} = x\\} \\text{log}P_{\\theta}(x)\\tag{5} \\\\\n",
    "&= \\text{arg}\\underset{\\theta}{\\text{max}}\\sum_{i=1}^{m}\\text{log}P_{\\theta}(x^{(i)})\\tag{6} \n",
    "\\end{align*}"
   ]
  },
  {
   "cell_type": "code",
   "execution_count": null,
   "id": "70febf9b-60e3-4775-ac42-64138797b107",
   "metadata": {},
   "outputs": [],
   "source": []
  }
 ],
 "metadata": {
  "kernelspec": {
   "display_name": "Python 3",
   "language": "python",
   "name": "python3"
  },
  "language_info": {
   "codemirror_mode": {
    "name": "ipython",
    "version": 3
   },
   "file_extension": ".py",
   "mimetype": "text/x-python",
   "name": "python",
   "nbconvert_exporter": "python",
   "pygments_lexer": "ipython3",
   "version": "3.8.5"
  }
 },
 "nbformat": 4,
 "nbformat_minor": 5
}
