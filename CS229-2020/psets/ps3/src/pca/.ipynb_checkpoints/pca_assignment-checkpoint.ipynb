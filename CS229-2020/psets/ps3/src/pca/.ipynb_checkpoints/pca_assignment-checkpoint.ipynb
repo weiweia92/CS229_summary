{
 "cells": [
  {
   "cell_type": "markdown",
   "id": "3b16b0ba-d7cd-42c8-a956-37f4b49ed6f1",
   "metadata": {},
   "source": [
    "**PCA**\n",
    "\n",
    "Answer:\n",
    "\n",
    "\\begin{align*}\n",
    "\\text{arg}\\underset{u:\\Vert u \\Vert=1}{\\text{min}}\\sum_{i=1}^n \\Vert x^{(i)}-f_u(x^{(i)}) \\Vert_2^2\n",
    "            &=\\text{arg}\\underset{u:\\Vert u \\Vert=1}{\\text{max}}\\sum_{i=1}^n \\Vert x^{(i)}\\Vert ^2-\\sum_{i=1}^n \\Vert x^{(i)}-f_u(x^{(i)}) \\Vert_2^2 \\tag{1}\\\\\n",
    "            &= \\text{arg}\\underset{u:\\Vert u \\Vert=1}{\\text{max}}\\sum_{i=1}^n\\big( \\Vert x^{(i)}\\Vert ^2- \\Vert x^{(i)}-f_u(x^{(i)}) \\Vert_2^2\\big) \\tag{2}\\\\\n",
    "            &= \\text{arg}\\underset{u:\\Vert u \\Vert=1}{\\text{min}}\\frac{1}{n}\\sum_{i=1}^n \\Vert f_u(x^{(i)} \\Vert_2^2\\tag{3}\n",
    "\\end{align*}\n",
    "\n",
    "(3):the Pythagorean theorem(勾股定理)\n",
    "\n",
    "So, minimizing our objective is equivalent to maximumizing the variance of projections onto the direction $u$: $\\frac{1}{n}\\sum_{i=1}^n \\Vert f_u(x^{(i)} \\Vert_2^2 $ and it is the first principal component of PCA that satisfies this."
   ]
  }
 ],
 "metadata": {
  "kernelspec": {
   "display_name": "Python 3",
   "language": "python",
   "name": "python3"
  },
  "language_info": {
   "codemirror_mode": {
    "name": "ipython",
    "version": 3
   },
   "file_extension": ".py",
   "mimetype": "text/x-python",
   "name": "python",
   "nbconvert_exporter": "python",
   "pygments_lexer": "ipython3",
   "version": "3.8.5"
  }
 },
 "nbformat": 4,
 "nbformat_minor": 5
}
