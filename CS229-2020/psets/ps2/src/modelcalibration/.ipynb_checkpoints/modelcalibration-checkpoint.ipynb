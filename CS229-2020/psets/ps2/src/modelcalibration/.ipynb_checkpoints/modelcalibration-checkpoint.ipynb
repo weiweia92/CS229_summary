{
 "cells": [
  {
   "cell_type": "markdown",
   "id": "d0799d9b-93d2-410a-88a3-f07c6387d91c",
   "metadata": {},
   "source": [
    "**2.(a)**\n",
    "\n",
    "Thel log likelihood is \n",
    "\n",
    "$$\\ell(\\theta)=\\text{log}L(\\theta)=-\\frac{1}{m}\\sum_{i=1}^m\\big( y^{(i)}\\text{log}(h(x^{(i)}))+(1-y^{(i)})\\text{log}(1-h(x^{(i)}))\\big)$$\n",
    "\n",
    "After training the gradients are equal to 0\n",
    "\n",
    "$$\\frac{\\partial \\ell(\\theta)}{\\partial \\theta_j}=-\\frac{1}{m}\\sum_{i=1}^m\\big(y^{(i)}-h(x^{(i)})\\big)x_j=0$$\n",
    "\n",
    "Set $j=0$. Because $x_0^{(i)}=1$, so\n",
    "\n",
    "$$\\sum_{i=1}^m\\big(y^{(i)}-h(x^{(i)})\\big)=0$$\n",
    "\n",
    "$$\\sum_{i=1}^mh(x^{(i)})=\\sum_{i=1}^m y^{(i)}$$\n",
    "\n",
    "$$h(x^{(i)})=P(y^{(i)}=1|x^{(i)};\\theta), y^{(i)}=\\mathbb{1}\\{y^{(i)}=1\\}$$\n",
    "\n",
    "When $(a,b)=(0,1), I_{a,b}=\\{x^{(i)},y^{(i)}\\}_{i=1}^m$ and $|\\{i \\in I_{a,b} \\}|=m$\n",
    "\n",
    "$$\\frac{\\sum_{i\\in I_{a,b}}P(y^{(i)}=1|x^{(i)};\\theta)}{|\\{i \\in I_{a,b} \\}}=\\frac{\\sum_{i\\in I_{a,b}}\\mathbb{1}\\{y^{(i)}=1\\}}{|\\{i \\in I_{a,b} \\}}$$"
   ]
  },
  {
   "cell_type": "markdown",
   "id": "2b46320c-a2c5-40cd-aa73-a003da2bd181",
   "metadata": {},
   "source": [
    "**(b)**\n",
    "\n",
    "The model is perfectly calibrated doesn't necessarily imply that the model achieves perfect accuracy.\n",
    "\n",
    "The converse is also not necessarily true.\n",
    "\n",
    "Assume that $(a,b)=(0.5,1)$\n",
    "\n",
    "When the model achieves perfect accuracy, the predictions are all correct, $\\text{i.e}$\n",
    "\n",
    "$$\\sum_{i\\in I_{a,b}}\\mathbb{1}\\{ y^{(i)}=1\\}=|\\{i\\in I_{a,b}\\}|$$\n",
    "\n",
    "For all $i \\in I_{a,b}$\n",
    "\n",
    "$$0.5 < P(y^{(i)}=1|x^{(i)};\\theta)<1$$\n",
    "\n",
    "So\n",
    "\n",
    "$$\\frac{\\sum_{i\\in I_{a,b}}P(y^{(i)}=1|x^{(i)};\\theta)}{|\\{i \\in I_{a,b} \\}}<\\frac{\\sum_{i\\in I_{a,b}}\\mathbb{1}\\{y^{(i)}=1\\}}{|\\{i \\in I_{a,b} \\}}$$\n",
    "\n",
    "However, when the model is perfectly calibrated, the following property always hold\n",
    "\n",
    "$$\\frac{\\sum_{i\\in I_{a,b}}P(y^{(i)}=1|x^{(i)};\\theta)}{|\\{i \\in I_{a,b} \\}}=\\frac{\\sum_{i\\in I_{a,b}}\\mathbb{1}\\{y^{(i)}=1\\}}{|\\{i \\in I_{a,b} \\}}$$\n",
    "\n",
    "So model is perfectly calibrated doesn't mean model achieves perfect accuray. The converse neither."
   ]
  },
  {
   "cell_type": "markdown",
   "id": "8c211b96-aae0-465e-8ad2-241a195ff825",
   "metadata": {},
   "source": [
    "**(c)**\n",
    "\n",
    "When adding $L_2$ regularization, $\\theta$ is not the maximum likelihood parameter learned after training.\n",
    "\n",
    "Furthermore, the loss function is \n",
    "\n",
    "$$J(\\theta)=-\\frac{1}{m}\\sum_{i=1}^m\\big( y^{(i)}\\text{log}(h_{\\theta}(x^{(i)}))+(1-y^{(i)})\\text{log}(1-h_{\\theta}(x^{(i)}))\\big)+\\frac{1}{2}\\lambda \\parallel \\theta \\parallel_2^2$$\n",
    "\n",
    "After training, the gradients are equal to 0\n",
    "\n",
    "$$\\frac{\\partial J(\\theta)}{\\partial \\theta_j}=\\sum_{i=1}^m \\big(h(x^{(i)}-y^{(i)})\\big)x_j^{(i)}+\\lambda \\theta_j=0$$\n",
    "\n",
    "Set $j=0$. Because $x_0^{(i)}=1$, so\n",
    "\n",
    "$$\\sum_{i=1}^m \\big(h(x^{(i)}-y^{(i)})\\big)+\\lambda \\theta_0=0$$"
   ]
  },
  {
   "cell_type": "markdown",
   "id": "d6feb0d2-c401-406a-99c3-71bd8faddf7f",
   "metadata": {},
   "source": [
    "$$\\sum_{i=1}^m h(x^{(i)})+\\lambda \\theta_0=\\sum_{i=1}^m y^{(i)}$$\n",
    "\n",
    "$$\\sum_{i=1}^m P(y^{(i)}=1|x^{(i)};\\theta)+\\lambda \\theta_0=\\sum_{i=1}^m \\mathbb{1}\\{y^{(i)}=1\\}$$\n",
    "\n",
    "So the model will not be well-calibrated."
   ]
  }
 ],
 "metadata": {
  "kernelspec": {
   "display_name": "Python 3",
   "language": "python",
   "name": "python3"
  },
  "language_info": {
   "codemirror_mode": {
    "name": "ipython",
    "version": 3
   },
   "file_extension": ".py",
   "mimetype": "text/x-python",
   "name": "python",
   "nbconvert_exporter": "python",
   "pygments_lexer": "ipython3",
   "version": "3.8.5"
  }
 },
 "nbformat": 4,
 "nbformat_minor": 5
}
