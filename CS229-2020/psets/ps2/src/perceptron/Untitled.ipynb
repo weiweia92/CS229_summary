{
 "cells": [
  {
   "cell_type": "markdown",
   "id": "33f89925-0c89-491f-88ac-a138731c9f7a",
   "metadata": {},
   "source": [
    "### Kernelizing the Perceptron\n",
    "\n",
    "**(a)**\n",
    "\n",
    "**i.**\n",
    "\n",
    "Because the algorithm only makes one pass through the training set, it will always be the case that $\\theta^{(i)}$ is a linear combination of $\\phi(x^{(1)},\\cdots, \\phi(x^{(i)})$, $\\text{i.e}$\n",
    "\n",
    "$$\\theta^{(i)}=\\sum_{k=1}^i \\theta_k \\phi(x^{(k)})$$\n",
    "\n",
    "for some real numbers $\\theta_k \\in \\mathbb{R}$\n",
    "\n",
    "Therefore we could represent $\\theta^{(i)}$ by the list $[\\theta_1, \\cdots,\\theta_i]$. For technical resons we will instead represent $\\theta^{(i)}$ by the pair $([\\theta_1,\\cdots,\\theta_i],[x^{(1)},\\cdots, x^{(i)}])$\n",
    "\n",
    "In particular $\\theta_0=0$ will be represented by $([],[]), \\text{i.e.}$ a pair of two empty lists."
   ]
  },
  {
   "cell_type": "markdown",
   "id": "0f700009-b342-4c9d-a890-90229a79fc2f",
   "metadata": {},
   "source": [
    "**ii.**\n",
    "\n",
    "For any vector $x\\in \\mathbb{R}^n$ and any vector $\\theta$ with \n",
    "\n",
    "$$\\theta=\\sum_{k=1}^i \\theta_k \\phi(x^{(k)})$$\n",
    "\n",
    "we have $$\\theta^T \\phi(x)=\\sum_{k=1}^i \\theta_k \\phi(x^{(k)})^T \\phi(x)$$\n",
    "\n",
    "$$=\\sum_{k=1}^i \\theta_k K(x^{(k)}, x)$$\n",
    "\n",
    "So for a new input $x^{i+1}$ we can compute the prediction efficiently by \n",
    "\n",
    "$$h_{\\theta^{(i)}}(x^{(i+1)})=g\\big(\\theta^{(i)T}\\phi(x^{(i+1)})\\big)=g\\big(\\sum_{k=1}^i \\theta_k^{(i)}K(x^{(k)},x^{(i+1)})\\big)$$"
   ]
  },
  {
   "cell_type": "markdown",
   "id": "2523d75e-2551-4fcb-a40b-32566c307b49",
   "metadata": {},
   "source": [
    "**iii.**\n",
    "\n",
    "The new update rule $$\\theta^{(i+1)}:=\\theta^{(i)}+\\alpha(y^{(i+1)}-h_{\\theta^{(i)}}(x^{(i+1)}))\\phi(x^{(i+1)})$$\n",
    "\n",
    "can be implemented by appending $$\\theta_{i+1}:=\\alpha(y^{(i+1)}-h_{\\theta^{(i)}}(x^{(i+1)}))$$  \n",
    "\n",
    "resp. $x^{(i+1)}$ to the first resp.sencond component of our representation $([\\theta_1,\\cdots,\\theta_i],[x^{(1)},\\cdots,x^{(i)}])$ of $\\theta^{(i)}$"
   ]
  }
 ],
 "metadata": {
  "kernelspec": {
   "display_name": "Python 3",
   "language": "python",
   "name": "python3"
  },
  "language_info": {
   "codemirror_mode": {
    "name": "ipython",
    "version": 3
   },
   "file_extension": ".py",
   "mimetype": "text/x-python",
   "name": "python",
   "nbconvert_exporter": "python",
   "pygments_lexer": "ipython3",
   "version": "3.8.5"
  }
 },
 "nbformat": 4,
 "nbformat_minor": 5
}
