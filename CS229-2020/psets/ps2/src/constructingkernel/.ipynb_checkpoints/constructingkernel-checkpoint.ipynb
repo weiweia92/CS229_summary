{
 "cells": [
  {
   "cell_type": "markdown",
   "id": "2e46c4f8-4803-4c02-a6af-bc2317c0b9ae",
   "metadata": {},
   "source": [
    "### Constructing kernels \n",
    "\n",
    "Mercer’s theorem tells us that $K(x, z)$ is a (Mercer) kernel if and only if for any finite set $\\{x^{(1)}, \\cdots , x^{(m)}\\}$, the square matrix $K\\in \\mathbb{R}^{m\\times m}$ whose entries are given by $K_{ij}=K(x^{(i)},x^{(j)})$ is **symmetric and positive semidefinite**.\n",
    "\n",
    "**(a)**\n",
    "\n",
    "$K(x, z) = K_1 (x, z) + K_2 (x, z)$ is a valid kernel.\n",
    "\n",
    "Because for any $z \\in \\mathbb{R}^n$,\n",
    "\n",
    "\\begin{align*}\n",
    "z^T K z & = \\sum_i \\sum_j z_i K_{ij} z_j \\\\\n",
    "        & = \\sum_i \\sum_j z_i K(x^{(i)}, x^{(j)}) z_j \\\\\n",
    "        & = \\sum_i \\sum_j z_i (K_1 (x^{(i)}, x^{(j)}) + K_2 (x^{(i)}, x^{(j)})) z_j \\\\\n",
    "        & = \\sum_i \\sum_j z_i K_1 (x^{(i)}, x^{(j)}) z_j + \\sum_i \\sum_j z_i K_2 (x^{(i)}, x^{(j)}) z_j \\\\\n",
    "        & = z^T K_1 z + z^T K_2 z \\\\\n",
    "        & \\geq 0\n",
    "\\end{align*}"
   ]
  },
  {
   "cell_type": "markdown",
   "id": "d50b034b-cae3-4347-9ffc-39b31cb8058a",
   "metadata": {},
   "source": [
    "**(b)**\n",
    "\n",
    "$K(x, z) = K_1 (x, z) - K_2 (x, z)$ is not necessarily a valid kernel.\n",
    "\n",
    "For example, $K_2 (x, z) = 2 K_1 (x, z)$, then $z^T K z = - z^T K_1 z \\leq 0$.\n",
    "\n",
    "#### (c)\n",
    "\n",
    "Assume $a > 0$, $K(x, z) = a K_1 (x, z)$ is a valid kernel.\n",
    "\n",
    "Because for any $z \\in \\mathbb{R}^n$,\n",
    "\n",
    "\\begin{align*}\n",
    "z^T K z & = \\sum_i \\sum_j z_i K_{ij} z_j \\\\\n",
    "        & = \\sum_i \\sum_j z_i K(x^{(i)}, x^{(j)}) z_j \\\\\n",
    "        & = \\sum_i \\sum_j z_i a K_1 (x^{(i)}, x^{(j)}) z_j \\\\\n",
    "        & = a z^T K_1 z \\\\\n",
    "        & \\geq 0\n",
    "\\end{align*}"
   ]
  },
  {
   "cell_type": "markdown",
   "id": "ee801b56-b6e9-4f1d-910b-a3966c57d0e8",
   "metadata": {},
   "source": [
    "**(d)**\n",
    "\n",
    "Assume $a > 0$, $K(x, z) = - a K_1 (x, z)$ is not a valid kernel.\n",
    "\n",
    "For example, $a = -1$, then $z^T K z = - z^T K_1 z \\leq 0$.\n",
    "\n",
    "**(e)**\n",
    "\n",
    "$K(x, z) = K_1 (x, z) K_2 (x, z)$ is a valid kernel.\n",
    "\n",
    "Because for any $z \\in \\mathbb{R}^n$,\n",
    "\n",
    "\\begin{align*}\n",
    "z^T K z & = \\sum_i \\sum_j z_i K_{ij} z_j \\\\\n",
    "        & = \\sum_i \\sum_j z_i K(x^{(i)}, x^{(j)}) z_j \\\\\n",
    "        & = \\sum_i \\sum_j z_i K_1 (x^{(i)}, x^{(j)}) K_2 (x^{(i)}, x^{(j)}) z_j \\\\\n",
    "        & = \\sum_i \\sum_j z_i \\phi_1 (x^{(i)})^T \\phi_1 (x^{(j)}) \\phi_2 (x^{(i)})^T \\phi_2 (x^{(j)}) z_j \\\\\n",
    "        & = \\sum_i \\sum_j z_i \\sum_k \\phi_{1k} (x^{(i)}) \\phi_{1k} (x^{(j)}) \\sum_l \\phi_{2l} (x^{(i)}) \\phi_{2l} (x^{(j)}) z_j \\\\\n",
    "        & = \\sum_k \\sum_l \\sum_i \\sum_j z_i \\phi_{1k} (x^{(i)}) \\phi_{2l} (x^{(i)}) z_j \\phi_{1k} (x^{(j)}) \\phi_{2l} (x^{(j)}) \\\\\n",
    "        & = \\sum_k \\sum_l \\big( \\sum_i z_i \\phi_{1k} (x^{(i)}) \\phi_{2l} (x^{(i)}) \\big)^2 \\\\\n",
    "        & \\geq 0\n",
    "\\end{align*}"
   ]
  },
  {
   "cell_type": "markdown",
   "id": "fa1d2ff1-0f0f-413a-8139-efc8c5abb66e",
   "metadata": {},
   "source": [
    "**(f)**\n",
    "\n",
    "$K(x, z) = f(x) f(z)$ is a valid kernel.\n",
    "\n",
    "Because for any $z \\in \\mathbb{R}^n$,\n",
    "\n",
    "\\begin{align*}\n",
    "z^T K z & = \\sum_i \\sum_j z_i K_{ij} z_j \\\\\n",
    "        & = \\sum_i \\sum_j z_i K(x^{(i)}, x^{(j)}) z_j \\\\\n",
    "        & = \\sum_i \\sum_j z_i f(x^{(i)}) f(x^{(j)}) z_j \\\\\n",
    "        & = (\\sum_i f(x^{(i)}) z_i)^2 \\\\\n",
    "        & \\geq 0\n",
    "\\end{align*}"
   ]
  },
  {
   "cell_type": "markdown",
   "id": "63cf408d-e0ba-44f2-93ec-012a7c663390",
   "metadata": {},
   "source": [
    "**(g)**\n",
    "\n",
    "$K(x, z) = K_3 (\\phi (x), \\phi (z))$ is a valid kernel, because $K_3 (x, z)$ is a kernel, no matter what the inputs are.\n",
    "\n",
    "**(h)**\n",
    "\n",
    "Yes, $p(K_1)$ is a valid kernel. $p(x)$ is a polynomial function with coefficients $c_k>0,k=0,1,\\cdots,n$\n",
    "\n",
    "$$p(x)=\\sum_{k=0}^n c_k x^k$$\n",
    "\n",
    "$$K(x,z)=p(K_1(x,z))=\\sum_{k=0}^n c_k\\big(K_1(x,z)\\big)^k$$\n",
    "\n",
    "From (e) we know $K(x,z)=K_1(x,z)K_2(x,z)$ is a valid kernel, so $K(x,z)=(K_1(x,z))^k$ is valid. From (a) and (c), we know $K(x,z)=K_1(x,z)+K_2(x,z)$ and $K(x,z)=aK_1(x,z),a\\in \\mathbb{R}^+$ are both valid. So $K(x,z)=\\sum_{k=0}^n c_k\\big(K_1(x,z)\\big)^k$ is a valid kernel."
   ]
  }
 ],
 "metadata": {
  "kernelspec": {
   "display_name": "Python 3",
   "language": "python",
   "name": "python3"
  },
  "language_info": {
   "codemirror_mode": {
    "name": "ipython",
    "version": 3
   },
   "file_extension": ".py",
   "mimetype": "text/x-python",
   "name": "python",
   "nbconvert_exporter": "python",
   "pygments_lexer": "ipython3",
   "version": "3.8.5"
  }
 },
 "nbformat": 4,
 "nbformat_minor": 5
}
