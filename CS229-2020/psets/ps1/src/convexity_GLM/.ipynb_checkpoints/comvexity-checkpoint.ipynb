{
 "cells": [
  {
   "cell_type": "markdown",
   "id": "482fe937-b64e-458d-8fe2-234c6739213c",
   "metadata": {},
   "source": [
    "**4.(a)**\n",
    "\n",
    "We first prove the follow lemma:\n",
    "\n",
    "**Lemma:** Given a random variable $Y \\sim p(y;\\eta)$ where $y\\in \\mathcal{D}$ and let $\\ell(\\eta)=\\text{log}p(y;\\eta)$, we have the follow results:\n",
    "\n",
    "$$\\mathbb{E}[\\ell'(\\eta)]=0\\tag{52}$$\n",
    "\n",
    "$$\\mathbb{E}[(\\ell'(\\eta))^2]=-\\mathbb{E}[\\ell''(\\eta)]\\tag{53}$$\n",
    "\n",
    "Let's prove it. We have that:"
   ]
  },
  {
   "cell_type": "markdown",
   "id": "e1aed3ee-c045-4af9-82e2-a5d7b1a56a23",
   "metadata": {},
   "source": [
    "$$\\ell'(\\eta)=(\\text{log}p(y;\\eta))'=\\frac{p'(y;\\eta)}{p(y;\\eta)}\\tag{54}$$\n",
    "\n",
    "$$\\ell''(\\eta)=\\frac{p''(y;\\eta)}{p(y;\\eta)}-\\frac{(p'(y;\\eta))^2}{(p(y;\\eta))^2}\\tag{55}$$"
   ]
  },
  {
   "cell_type": "markdown",
   "id": "873dfef7-f31a-468e-b267-69817ef95ae4",
   "metadata": {},
   "source": [
    "Then, applying the expectation formula we obtain:\n",
    "\n",
    "$$\\begin{equation*} \n",
    "    \\begin{split}\n",
    "        &\\mathbb{E}[\\ell'(\\eta)]=\\int_{\\mathcal{D}}\\frac{p'(y;\\eta)}{p(y;\\eta)}p(y;\\eta)dy\\\\ \n",
    "        &=\\int_{\\mathcal{D}}\\frac{\\partial}{\\partial \\eta}p(y;\\eta)dy \\\\\n",
    "        &=\\frac{\\partial}{\\partial \\eta}\\int_{\\mathcal{D}}p(y;\\eta)dy \\\\\n",
    "        &=\\frac{\\partial}{\\partial \\eta}(\\text{1})=0 \n",
    "    \\end{split}\n",
    "\\end{equation*}$$\n",
    "\n",
    "This proves the first result. We now move on to the second one, then consider:\n",
    "\n",
    "$$\\begin{equation*} \n",
    "    \\begin{split}\n",
    "        &\\text{LHS}=\\mathbb{E}[(\\ell'(\\eta))^2]\\\\\n",
    "        &=\\int_{\\mathcal{D}}\\big(\\frac{p'(y;\\eta)}{p(y;\\eta)}\\big)^2p(y;\\eta)dy\\\\\n",
    "        &=\\int_{\\mathcal{D}}\\frac{(p'(y;\\eta))^2}{p(y;\\eta)}dy\n",
    "    \\end{split}\n",
    "\\end{equation*}$$"
   ]
  },
  {
   "cell_type": "markdown",
   "id": "7a1b3ddd-2183-454b-aba9-e1ae230a81a3",
   "metadata": {},
   "source": [
    "While, look at the RHS we have:\n",
    "\n",
    "$$\\begin{equation*} \n",
    "    \\begin{split}\n",
    "        &\\text{RHS}=-\\mathbb{E}[\\ell''(\\eta)]\\\\\n",
    "        &=-\\int_{\\mathcal{D}}\\big(\\frac{p''(y;\\eta)}{p(y;\\eta)}-\\frac{(p'(y;\\eta))^2}{(p(y;\\eta))^2}\\big)p(y;\\eta)dy\\\\\n",
    "        &=-\\int_{\\mathcal{D}}p''(y;\\eta)dy+\\int_{\\mathcal{D}}\\frac{(p'(y;\\eta))^2}{p(y;\\eta)}dy\\\\\n",
    "        &=0+\\int_{\\mathcal{D}}\\frac{(p'(y;\\eta))^2}{p(y;\\eta)}dy\n",
    "    \\end{split}\n",
    "\\end{equation*}$$\n",
    "\n",
    "Therefore, LHS=RHS, which implies the correctness of the second result. Now, we are ready to prove sub-problem $(a)$ and $(b)$.\n",
    "\n",
    "Exponential family random variable $Y$ has a distribution function $p(y;\\eta)=b(y)\\text{exp}(\\eta y-a(\\eta))$. So,\n",
    "\n",
    "$$\\begin{equation*} \n",
    "    \\begin{split}\n",
    "        &\\frac{\\partial}{\\partial \\eta}\\int p(y;\\eta)dy=\\int \\frac{\\partial}{\\partial \\eta}p(y;\\eta)dy\\\\\n",
    "        &=\\int b(y)\\text{exp}\\{\\eta y-a(\\eta)\\}(y-\\frac{\\partial a(\\eta)}{\\partial \\eta})dy\\\\\n",
    "        &=\\int p(y;\\eta)(y-\\frac{\\partial a(\\eta)}{\\partial \\eta})dy\\\\\n",
    "        &=\\int yp(y;\\eta)dy - \\frac{\\partial a(\\eta)}{\\partial \\eta} \\int p(y;\\eta)dy\\\\\n",
    "        &=\\mathbb{E}[Y;\\eta]-\\frac{\\partial a(\\eta)}{\\partial \\eta}\n",
    "    \\end{split}\n",
    "\\end{equation*}$$\n",
    "\n",
    "$$\\therefore \\mathbb{E}[Y;\\eta]=\\mathbb{E}[Y|X;\\theta]=\\frac{\\partial a(\\eta)}{\\partial \\eta}$$"
   ]
  },
  {
   "cell_type": "markdown",
   "id": "3a2a1e71-533e-422c-8740-cb316cd5b4cf",
   "metadata": {},
   "source": [
    "**(b)**\n",
    "\n",
    "由上式可知：\n",
    "\n",
    "$$\\frac{\\partial}{\\partial \\eta}\\int p(y;\\eta)dy=\\int yp(y;\\eta)dy -\\frac{\\partial a(\\eta)}{\\partial \\eta}\\int p(y;\\eta)dy=\\int yp(y;\\eta)dy-\\frac{\\partial^2 a(\\eta)}{\\partial \\eta^2}=0$$\n",
    "\n",
    "$$\\therefore \\frac{\\partial}{\\partial \\eta} \\int yp(y;\\eta)dy=\\frac{\\partial^2 a(\\eta)}{\\partial \\eta^2}$$\n",
    "\n",
    "$$\\begin{equation*} \n",
    "    \\begin{split}\n",
    "        &\\frac{\\partial}{\\partial \\eta}\\int yp(y;\\eta)dy=\\int y\\frac{\\partial}{\\partial \\eta}p(y;\\eta)dy\\\\\n",
    "        &=\\int y p(y;\\eta)(y-\\frac{\\partial a(\\eta)}{\\partial \\eta})dy\\\\\n",
    "        &=\\int y^2 p(y;\\eta)dy-\\frac{\\partial a(\\eta)}{\\partial \\eta}\\int yp(y;\\eta)dy\\\\\n",
    "        &=\\mathbb{E}[Y^2;\\eta]-\\mathbb{E}[Y;\\eta]\\mathbb{E}[Y;\\eta]\\\\\n",
    "        &=\\mathbb{E}[Y^2;\\eta]-\\mathbb{E}^2[Y;\\eta]\\\\\n",
    "        &=\\mathbb{V}\\text{ar}[Y;\\eta]\n",
    "    \\end{split}\n",
    "\\end{equation*}$$\n",
    "\n",
    "$$\\therefore \\mathbb{V}\\text{ar}[Y;\\eta]=\\mathbb{V}\\text{ar}[Y|X;\\theta]=\\frac{\\partial^2 a(\\eta)}{\\partial \\eta^2}$$"
   ]
  },
  {
   "cell_type": "code",
   "execution_count": null,
   "id": "e79b9809-6bff-42f9-b3af-aa588a12f357",
   "metadata": {},
   "outputs": [],
   "source": []
  }
 ],
 "metadata": {
  "kernelspec": {
   "display_name": "Python 3",
   "language": "python",
   "name": "python3"
  },
  "language_info": {
   "codemirror_mode": {
    "name": "ipython",
    "version": 3
   },
   "file_extension": ".py",
   "mimetype": "text/x-python",
   "name": "python",
   "nbconvert_exporter": "python",
   "pygments_lexer": "ipython3",
   "version": "3.8.5"
  }
 },
 "nbformat": 4,
 "nbformat_minor": 5
}
