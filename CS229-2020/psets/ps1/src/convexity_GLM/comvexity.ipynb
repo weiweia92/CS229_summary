{
 "cells": [
  {
   "cell_type": "markdown",
   "id": "482fe937-b64e-458d-8fe2-234c6739213c",
   "metadata": {},
   "source": [
    "**4.(a)**\n",
    "\n",
    "We first prove the follow lemma:\n",
    "\n",
    "**Lemma:** Given a random variable $Y \\sim p(y;\\eta)$ where $y\\in \\mathcal{D}$ and let $\\ell(\\eta)=\\text{log}p(y;\\eta)$, we have the follow results:\n",
    "\n",
    "$$\\mathbb{E}[\\ell'(\\eta)]=0$$\n",
    "\n",
    "$$\\mathbb{E}[(\\ell'(\\eta))^2]=-\\mathbb{E}[\\ell''(\\eta)]$$\n",
    "\n",
    "Let's prove it. We have that:\n",
    "\n"
   ]
  },
  {
   "cell_type": "markdown",
   "id": "e1aed3ee-c045-4af9-82e2-a5d7b1a56a23",
   "metadata": {},
   "source": [
    "$$\\ell'(\\eta)=(\\text{log}p(y;\\eta))'=\\frac{p'(y;\\eta)}{p(y;\\eta)}$$\n",
    "\n",
    "$$\\ell''(\\eta)=\\frac{p''(y;\\eta)}{p(y;\\eta)}-\\frac{(p'(y;\\eta))^2}{(p(y;\\eta))^2}$$"
   ]
  },
  {
   "cell_type": "markdown",
   "id": "873dfef7-f31a-468e-b267-69817ef95ae4",
   "metadata": {},
   "source": [
    "Then, applying the expectation formula we obtain:\n",
    "\n",
    "$$\\begin{equation*} \n",
    "    \\begin{split}\n",
    "        &\\mathbb{E}[\\ell'(\\eta)]\\\\\n",
    "        &=\\int_{\\mathcal{D}}\\frac{p'(y;\\eta)}{p(y;\\eta)}p(y;\\eta)dy\\\\\n",
    "        &=\\int_{\\mathcal{D}\\frac{\\partial}{\\partial \\eta}}p(y;\\eta)dy \\\\\n",
    "        &=\\frac{\\partial}{\\partial \\eta}\\int_{\\mathcal{D}}p(y;\\eta)dy \\\\\n",
    "        &=\\frac{\\partial}{\\partial \\eta}(\\text{1})=0\n",
    "    \\end{split}\n",
    "\\end{equation*}$$\n",
    "\n",
    "This "
   ]
  },
  {
   "cell_type": "code",
   "execution_count": null,
   "id": "c60b046f-251f-4fd1-9b0a-edf09ba8c04c",
   "metadata": {},
   "outputs": [],
   "source": []
  }
 ],
 "metadata": {
  "kernelspec": {
   "display_name": "Python 3",
   "language": "python",
   "name": "python3"
  },
  "language_info": {
   "codemirror_mode": {
    "name": "ipython",
    "version": 3
   },
   "file_extension": ".py",
   "mimetype": "text/x-python",
   "name": "python",
   "nbconvert_exporter": "python",
   "pygments_lexer": "ipython3",
   "version": "3.8.5"
  }
 },
 "nbformat": 4,
 "nbformat_minor": 5
}
