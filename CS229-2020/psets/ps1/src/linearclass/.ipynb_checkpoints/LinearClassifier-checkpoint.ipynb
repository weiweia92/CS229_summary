{
 "cells": [
  {
   "cell_type": "markdown",
   "id": "7eadc5c5-a7bb-4aa5-acc1-30ec214754a4",
   "metadata": {},
   "source": [
    "### 1.[40 points] Linear Classifiers (logistic regression and GDA)\n",
    "\n",
    "**(a)**\n",
    "\n",
    "已知 $\n",
    "X = \\left[\n",
    "\\begin{matrix}\n",
    " x_1^{(1)} & x_2^{(1)}  & \\cdots & x_n^{(1)} \\\\\n",
    " x_1^{(2)} & x_2^{(2)}  & \\cdots & x_n^{(2)} \\\\\n",
    " \\vdots & \\vdots & \\ddots & \\vdots \\\\\n",
    " x_1^{(m)} & x_2^{(m)} & \\cdots & x_n^{(m)}  \\\\\n",
    "\\end{matrix}\n",
    "\\right]\n",
    ",\\quad Y=\\left[\n",
    "\\begin{matrix}\n",
    " y^{(1)}  \\\\\n",
    " y^{(2)} \\\\\n",
    " \\vdots \\\\\n",
    " y^{(m)} \\\\\n",
    "\\end{matrix}\n",
    "\\right],\\quad \\quad \\theta=\\left[\n",
    "\\begin{matrix}\n",
    " \\theta^{(1)}  \\\\\n",
    " \\theta^{(2)} \\\\\n",
    " \\vdots \\\\\n",
    " \\theta^{(m)} \\\\\n",
    "\\end{matrix}\n",
    "\\right]$"
   ]
  },
  {
   "cell_type": "markdown",
   "id": "7fb30741-de3a-4c2b-802b-698ae26c1650",
   "metadata": {},
   "source": [
    "$$J(\\theta)=-\\frac{1}{m}\\sum_{i=1}^m \\big(y^{(i)}\\text{log}(h_\\theta(x^{(i)}))+(1-y^{(i)})\\text{log}(1-h_\\theta(x^{(i)}))\\big)$$\n",
    "\n",
    "$$\\text{where} \\quad y^{(i)} \\in \\{0,1\\},h_\\theta(x)=g(\\theta^T x)=X\\theta \\quad \\text{and}\\quad g(z)=1/(1+e^{-z}) $$"
   ]
  },
  {
   "cell_type": "markdown",
   "id": "d87808e8-2a1f-49be-83a6-6450053e4d44",
   "metadata": {},
   "source": [
    "$$\\begin{equation*} \n",
    "    \\begin{split}\n",
    "        &\\therefore\\frac{\\partial J(\\theta)}{\\partial \\theta_j}\\\\\n",
    "        &=-\\frac{1}{m}\\sum_{i=1}^m\\big(y^{(i)}\\frac{g(\\theta^Tx^{(i)})[1-g(\\theta^Tx^{(i)})]}{g(\\theta^Tx^{(i)})}x_j^{(i)}-(1-y^{(i)})\\frac{g(\\theta^Tx^{(i)})[1-g(\\theta^Tx^{(i)})]}{1-g(\\theta^Tx^{(i)})}x_j^{(i)}\\big) \\\\\n",
    "        &=-\\frac{1}{m}\\sum_{i=1}^m\\big(y^{(i)}[1-g(\\theta^Tx^{(i)})]x_j^{(i)}-(1-y^{(i)})g(\\theta^Tx^{(i)})x_j^{(i)}\\big)\\\\\n",
    "        &=\\frac{1}{m}\\sum_{i=1}^m[g(\\theta^Tx^{(i)}-y^{(i)}]x_j^{(i)}\\\\\n",
    "    \\end{split}\n",
    "\\end{equation*}$$\n",
    "\n",
    "$$X^T = \\left[\n",
    "\\begin{matrix}\n",
    " x_1^{(1)} & x_1^{(2)}  & \\cdots & x_1^{(m)} \\\\\n",
    " x_2^{(1)} & x_2^{(2)}  & \\cdots & x_2^{(m)} \\\\\n",
    " \\vdots & \\vdots & \\ddots & \\vdots \\\\\n",
    " x_n^{(1)} & x_n^{(2)} & \\cdots & x_n^{(m)}  \\\\\n",
    "\\end{matrix}\n",
    "\\right]$$\n",
    "\n",
    "$$\\quad \\therefore \\Delta_{\\theta}J(\\theta)=\\frac{1}{m} X^T(g(X\\theta)-Y)$$"
   ]
  },
  {
   "cell_type": "markdown",
   "id": "db056a17-190e-4f6a-80c3-61c8db8530cb",
   "metadata": {},
   "source": [
    "$$\\begin{equation*} \n",
    "    \\begin{split}\n",
    "        &H_{jk}=\\frac{\\partial^2 J(\\theta)}{\\partial \\theta_j}=\\frac{\\partial}{\\partial \\theta_k}\\cdot \\frac{\\partial J(\\theta)}{\\partial \\theta_j}\\\\\n",
    "        &=\\frac{\\partial}{\\partial \\theta_k}\\big( \\frac{1}{m}\\sum_{i=1}^m[g(\\theta^Tx^{(i)}-y^{(i)}]x_j^{(i)}\\big) \\\\\n",
    "        &=\\frac{\\partial}{\\partial \\theta_k}\\big( \\frac{1}{m}\\sum_{i=1}^m[g(\\theta^Tx^{(i)}]x_j^{(i)}\\big)\\\\\n",
    "        &=\\frac{1}{m}\\sum_{i=1}^mg(\\theta^Tx^{(i)})[1-g(\\theta^Tx^{(i)})]x_j^{(i)}x_k^{(i)}\\\\\n",
    "    \\end{split}\n",
    "\\end{equation*}$$\n",
    "\n",
    "$$\\because \n",
    " x_{jk}=\n",
    " \\begin{bmatrix}\n",
    "   x_j^{(1)} & x_j^{(2)} & \\cdots & x_j^{(m)} \n",
    "  \\end{bmatrix} \\cdot \n",
    " \\begin{bmatrix}\n",
    "   x_k^{(1)}  \\\\\n",
    "   x_k^{(2)}  \\\\\n",
    "   \\vdots \\\\\n",
    "   x_k^{(m)}\n",
    "  \\end{bmatrix}=\\sum_{i=1}^m x_j^{i}x_k^{i}\n",
    "$$\n",
    "\n",
    "$$\\text{当}j \\text{取} 1,\\cdots, n \\text{时}, k\\text{取} 1,\\cdots, n \\text{时} \\left[\n",
    "\\begin{matrix}\n",
    " x_1^{(1)} & x_1^{(2)}  & \\cdots & x_1^{(m)} \\\\\n",
    " x_2^{(1)} & x_2^{(2)}  & \\cdots & x_2^{(m)} \\\\\n",
    " \\vdots & \\vdots & \\ddots & \\vdots \\\\\n",
    " x_n^{(1)} & x_n^{(2)} & \\cdots & x_n^{(m)}  \\\\\n",
    "\\end{matrix}\n",
    "\\right]\\left[\n",
    "\\begin{matrix}\n",
    " x_1^{(1)} & x_2^{(1)}  & \\cdots & x_n^{(1)} \\\\\n",
    " x_1^{(2)} & x_2^{(2)}  & \\cdots & x_n^{(2)} \\\\\n",
    " \\vdots & \\vdots & \\ddots & \\vdots \\\\\n",
    " x_1^{(m)} & x_2^{(m)} & \\cdots & x_n^{(m)}  \\\\\n",
    "\\end{matrix}\n",
    "\\right]=X^T X$$\n",
    "\n",
    "$$\\therefore H=\\frac{1}{m}[X^T\\cdot g(X\\theta)\\cdot (1-g(X\\theta))]X$$\n",
    "\n",
    "$$z^T H z=\\frac{1}{m}\\sum_{i=1}^m\\sum_{j=1}^n \\sum_{k=1}^n g(\\theta^Tx^{(i)})[1-g(\\theta^Tx^{(i)})]x_j^{(i)}x_k^{(i)}z_j z_k$$\n",
    "\n",
    "$$\\quad=\\frac{1}{m}\\sum_{i=1}^mg(\\theta^Tx^{(i)})[1-g(\\theta^Tx^{(i)})][(x^{(i)})^Tz]^2 \\geq 0$$"
   ]
  }
 ],
 "metadata": {
  "kernelspec": {
   "display_name": "Python 3",
   "language": "python",
   "name": "python3"
  },
  "language_info": {
   "codemirror_mode": {
    "name": "ipython",
    "version": 3
   },
   "file_extension": ".py",
   "mimetype": "text/x-python",
   "name": "python",
   "nbconvert_exporter": "python",
   "pygments_lexer": "ipython3",
   "version": "3.8.5"
  }
 },
 "nbformat": 4,
 "nbformat_minor": 5
}
